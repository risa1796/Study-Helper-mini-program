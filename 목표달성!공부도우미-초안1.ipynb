{
 "cells": [
  {
   "cell_type": "markdown",
   "id": "887d4824",
   "metadata": {},
   "source": [
    "-----"
   ]
  },
  {
   "cell_type": "markdown",
   "id": "bac2f9d1",
   "metadata": {},
   "source": [
    "<img src='http://localhost:8888/files/m2_%EB%B6%84%EC%84%9D%EB%9D%BC%EC%9D%B4%EB%B8%8C%EB%9F%AC%EB%A6%AC%ED%99%9C%EC%9A%A9/Pandas/dataset/%EB%AA%A9%ED%91%9C.jpg' STYLE='width:500px;'>"
   ]
  },
  {
   "cell_type": "markdown",
   "id": "5dc3729f",
   "metadata": {},
   "source": [
    "개발자 : 진청아"
   ]
  },
  {
   "cell_type": "markdown",
   "id": "d090452b",
   "metadata": {},
   "source": [
    "--------------------"
   ]
  },
  {
   "cell_type": "markdown",
   "id": "cb8757bf",
   "metadata": {},
   "source": [
    "## '목표 달성! 공부 도우미' (목공도) 프로그램은 ...\n",
    "#### 목표 달성을 위한 공부 시간을 효율적으로 쓸 수 있게 도와주는 프로그램입니다.\n",
    "\n",
    "#### 시험 공부를 하는 학생, 수험생 그리고 틈틈히 자격증 공부를 하는 직장인에게 \n",
    "#### 도움을 줄 수 있는 시간 관리 서비스를 제공하고 있습니다. \n",
    "\n",
    "## 목공도의 기대 가치는?\n",
    "#### - 체계적인 시간 관리\n",
    "#### - 집중력 향상\n",
    "#### - 효율성 36% ↑ (연구자료: 2021, An analysis of productivity app strengths: An environmental scan)\n",
    "\n",
    "## 목공도의 서비스는?\n",
    "#### - 목표 성공시 자신에게 말해주고 싶은 메모 기능 (성공시 알림이 뜹니다. )\n",
    "#### - 공부 스톱워치 및 휴식 온/오프 기능 \n",
    "#### - 공부 자극 '오늘의 공부 명언' 서비스 \n",
    "#### - 과거 날짜별 공부 및 휴식 그래프 \n",
    "#### - 과거와 현재 목표 내역 및 남은 날짜&공부시간 계산, 성공/실패 여부"
   ]
  },
  {
   "cell_type": "markdown",
   "id": "a61cc707",
   "metadata": {},
   "source": [
    "##  목공도 프로그램 메뉴:\n",
    "    \n",
    "    1. 목표 정의\n",
    "       1.1 목표 사항 \n",
    "           1.1.1 목표 제목\n",
    "           1.1.2 목표 메모\n",
    "           1.1.3 목표 날짜\n",
    "           1.1.4 목표 공부량 (분 단위)\n",
    "       \n",
    "    2. 공부 스톱워치\n",
    "       2.1 스톱워치 시작 \n",
    "       2.2 휴식 온/오프\n",
    "       2.3 스톱워치 종료\n",
    "       \n",
    "    3. 목표 리스트 (과거와 현재진행형 목표들을 리스트로 보여준다.)\n",
    "       3.1  목표 제목\n",
    "       3.2  목표\n",
    "       3.3  목표 총 공부한 시간 (분 단위)\n",
    "       3.4  성공/실패 여부\n",
    "       3.5  날짜 \n",
    "       3.6  디데이\n",
    "       \n",
    "    4. 공부와 휴식 그래프 \n",
    "       4.1 날짜별 총 공부 시간 \n",
    "       4.2 날짜별 총 휴식 시간 "
   ]
  },
  {
   "cell_type": "markdown",
   "id": "e3b012e1",
   "metadata": {},
   "source": [
    "--------------"
   ]
  },
  {
   "cell_type": "code",
   "execution_count": 1,
   "id": "4b86521d",
   "metadata": {},
   "outputs": [],
   "source": [
    "import os\n",
    "from datetime import datetime\n",
    "import time\n",
    "import pandas as pd\n",
    "import datetime\n",
    "from datetime import datetime \n",
    "from datetime import timedelta\n",
    "import matplotlib.pyplot as plt\n",
    "import glob\n",
    "import re\n",
    "import random\n",
    "\n",
    "#import warnings\n",
    "#warnings.filterwarnings('ignore')"
   ]
  },
  {
   "cell_type": "code",
   "execution_count": 2,
   "id": "d9c7116b",
   "metadata": {},
   "outputs": [
    {
     "data": {
      "text/plain": [
       "'C:\\\\Cakd7\\\\aim_list'"
      ]
     },
     "execution_count": 2,
     "metadata": {},
     "output_type": "execute_result"
    }
   ],
   "source": [
    "# 프로그램 관련 파일들은 전부 aim_list 에 넣습니다.\n",
    "os.getcwd()\n",
    "os.chdir(\"C:\\\\Cakd7\\\\aim_list\")\n",
    "os.getcwd()"
   ]
  },
  {
   "cell_type": "markdown",
   "id": "65e760f1",
   "metadata": {},
   "source": [
    "# 1. 목표 정의"
   ]
  },
  {
   "cell_type": "markdown",
   "id": "342148e1",
   "metadata": {},
   "source": [
    "## 1.1 목표 사항 "
   ]
  },
  {
   "cell_type": "markdown",
   "id": "2e3661a1",
   "metadata": {},
   "source": [
    "#### 1.1.1 목표 제목\n",
    "\n",
    "####   1.1.2 목표 메모\n",
    "       \n",
    "####   1.1.3 목표 날짜\n",
    "       \n",
    "####   1.1.4 목표 공부량 (분 단위)"
   ]
  },
  {
   "cell_type": "markdown",
   "id": "b89558f9",
   "metadata": {},
   "source": [
    "Aim_defintion 클래스에서 위와 같이 목표 사항을 정의할 수 있다. \n",
    "\n",
    " 1. Aim_defintion의 객체를 만들 때 제목,메모,날짜,공부량을 기재한후 함수를 실행시킨다.\n",
    " 2. init 함수가 변수를 각각 받은 후, save_aim 함수를 부른다. \n",
    " 3. save_aim 함수는 기재한 목표 사항을 저장할 것 인지 물어본다. 승인하면 정보를 임시 딕셔너리에 넣어 새 txt 파일에 저장한다. \n",
    "    딕셔너리 key는 4개이다 (목표,메모,날짜,목표_공부량)\n",
    " 4. 목표 프로세스를 시작할려면 test.start_aim 함수를 실행시켜야 한다. 이 함수에서는 총 공부시간과 휴식시간을 저장할 수 있는 데이터프레임이     만들어지는데, 아직 값이 없는 빈 데이터프레임이 만들어진다. "
   ]
  },
  {
   "cell_type": "markdown",
   "id": "ff9d92b2",
   "metadata": {},
   "source": [
    "# 2. 공부 스톱워치 "
   ]
  },
  {
   "cell_type": "markdown",
   "id": "39934523",
   "metadata": {},
   "source": [
    "#### 2.1 스톱워치 시작 (def start_study)\n",
    "\n",
    "#### 2.2 휴식 온/오프 (def start_pause)\n",
    "\n",
    "#### 2.3 스톱워치 종료 (def stop_study)"
   ]
  },
  {
   "cell_type": "markdown",
   "id": "a09a1cad",
   "metadata": {},
   "source": [
    "1. Today_schedule 객체 test 를 만든다. 변수로는 공부할 목표 이름과 날짜를기입한다.\n",
    "2. 오늘 하루 공부한 시간과 휴식 시간을 저장할 임시 데이터프레임을 만든다. \n",
    "   데이터 프레임의 열은 목표날짜까지의 날짜 열이고 첫번째 행은 총 휴식시간 두번째 행은 총 공부시간을 저장한다.\n",
    "3. start_study 함수를 실행시키면 공부 스톱워치가 시작됩니다.\n",
    "4. start_pause 함수는 휴식 시간을 정할 수 있습니다. 휴식은 원하는 만큼 가질 수 있고, 휴식 시간은 데이터 프레임에 업데이트 되어 누적된 시간이 저장됩니다. \n",
    "5. stop_study 함수는 공부스톱워치를 종료시킵니다. 공부 마친 시간에서 공부 시작 시간을 빼고 난 후, 총 휴식 시간 마저 차감해서 계산합니다.\n",
    "   계산된 총 공부 시간을 데이터 프레임에 저장합니다. "
   ]
  },
  {
   "cell_type": "markdown",
   "id": "2eec6130",
   "metadata": {},
   "source": [
    " time.sleep() 을 이용하여 스톱워치 기능을 재현합니다.  "
   ]
  },
  {
   "cell_type": "code",
   "execution_count": 3,
   "id": "350fb35c",
   "metadata": {
    "scrolled": true
   },
   "outputs": [
    {
     "name": "stdout",
     "output_type": "stream",
     "text": [
      ">> 목표 제목, 성공 메모, 날짜 그리고 목표 공부량(분 단위)을 기재해 주세요.\n",
      "                              \n",
      "        \n",
      "        입력하신 정보\n",
      "        ☰☰☰☰☰☰☰☰☰☰☰☰☰☰☰☰☰☰☰☰☰☰☰☰☰☰\n",
      "        \n",
      "        목표: 마파두부시험\n",
      "        성공 메모: 공부 열심히 했으니 이제 마라탕\n",
      "        날짜(yyyy/mm/dd): 2022/07/10\n",
      "        목표 공부량 (분): 70\n",
      "        \n",
      "        ☰☰☰☰☰☰☰☰☰☰☰☰☰☰☰☰☰☰☰☰☰☰☰☰☰☰\n",
      "        \n",
      "        \n",
      ">> 목표를 저장하시겠습니까? ( Y / N )\n",
      "y\n",
      ">> 저장 완료되었습니다.\n",
      "\n",
      ">> 마파두부시험 공부 프로세스를 시작하겠습니까? ( Y / N )\n",
      "y\n",
      ">> 시작!\n",
      "\n"
     ]
    }
   ],
   "source": [
    "print(\">> 목표 제목, 성공 메모, 날짜 그리고 목표 공부량(분 단위)을 기재해 주세요.\")\n",
    "\n",
    "class Aim():\n",
    "    \n",
    "    global time_df # today dictionary\n",
    "    global today\n",
    "    global start_study_time\n",
    "    \n",
    "    today = datetime.now().strftime('%Y/%m/%d')\n",
    "    study_pause_records = {}\n",
    "    \n",
    "    def __init__(self, title, memo, ddate, studytime): # 목표 제목, 메모, 날짜, 목표 공부량을 설정합니다.\n",
    "        self.title = title\n",
    "        self.memo = memo\n",
    "        self.ddate = ddate\n",
    "        self.studytime = studytime\n",
    "        \n",
    "        # 입력한 내용을 다시 한번 확인합니다. \n",
    "        print(f'''                              \n",
    "        \n",
    "        입력하신 정보\n",
    "        ☰☰☰☰☰☰☰☰☰☰☰☰☰☰☰☰☰☰☰☰☰☰☰☰☰☰\n",
    "        \n",
    "        목표: {self.title}\n",
    "        성공 메모: {self.memo}\n",
    "        날짜(yyyy/mm/dd): {self.ddate}\n",
    "        목표 공부량 (분): {self.studytime}\n",
    "        \n",
    "        ☰☰☰☰☰☰☰☰☰☰☰☰☰☰☰☰☰☰☰☰☰☰☰☰☰☰\n",
    "        \n",
    "        ''')\n",
    "        \n",
    "        Aim.save_aim(self) # 목표 저장 여부를 묻습니다.\n",
    "        \n",
    "        \n",
    "    def save_aim(self): # init 에서 실행됩니다.\n",
    "\n",
    "        aim_dict = {'목표': 'txt' , '메모': 'txt', '날짜': 'txt', '목표_공부량': 0}\n",
    "        \n",
    "        y_n = input(f\">> 목표를 저장하시겠습니까? ( Y / N )\\n\") # 입력한 목표 저장 여부를 묻습니다.\n",
    "        if y_n == \"Y\" or y_n =='y':\n",
    "            # 만든 aim_dict 딕셔너리에 기재된 정보를 넣습니다.\n",
    "            aim_dict[\"목표\"] = {self.title}\n",
    "            aim_dict[\"메모\"] = {self.memo}\n",
    "            aim_dict[\"날짜\"] = {self.ddate}\n",
    "            aim_dict[\"목표_공부량\"] = {self.studytime}\n",
    "            \n",
    "            with open( f'{self.title}.txt' ,\"w\") as f: # 새 txt 파일을 만들어 정보를 외부에 저장합니다.\n",
    "                \n",
    "                for i,j in aim_dict.items():\n",
    "                    f.write(f'{i} : {j} \\n')\n",
    "                    \n",
    "                print(\">> 저장 완료되었습니다.\\n\")\n",
    "                \n",
    "        elif y_n == \"N\" or y_n =='n':\n",
    "            print(\">> 저장 실패하였습니다.\\n\")\n",
    "        else :\n",
    "            print(\">> Y / N 중 둘중에 하나만 선택해주세요.\\n\")\n",
    "            Aim.save_aim(self) # 재귀함수: 잘못된 입력으로 저장 여부를 다시 묻습니다.\n",
    "                \n",
    "        \n",
    "    def start_aim(self): # 목표 시작 여부를 묻습니다.\n",
    "        y_n = input(f\">> {self.title} 공부 프로세스를 시작하겠습니까? ( Y / N )\\n\")\n",
    "        if y_n == \"Y\" or y_n =='y':\n",
    "            print(\">> 시작!\\n\")\n",
    "            study_pause_df =pd.DataFrame() \n",
    "            #csv 파일에 비어있는 데이터프레임을 미리 만들어 놓습니다.\n",
    "            study_pause_df.to_csv(f'{self.title}.csv', index=None) \n",
    "            \n",
    "        elif y_n == \"N\" or y_n =='n':\n",
    "            print(\">> 다음에...\\n\")\n",
    "        else :\n",
    "            print(\">> Y / N 중 둘중에 하나만 선택해주세요.\\n\")\n",
    "            Aim.start_aim(self) # 잘못된 입력으로 다시 시작 여부를 묻습니다. \n",
    "            \n",
    "            \n",
    "    def create_time_df(self): \n",
    "        \n",
    "        daystilddate = []\n",
    "        d_day= datetime.strptime(self.ddate, '%Y/%m/%d')\n",
    "        date_diff = d_day-datetime.now()\n",
    "        time_df = pd.DataFrame(index = ['휴식','공부'])\n",
    "        date_diffdays = date_diff.days\n",
    "        for i in range(date_diffdays+1):\n",
    "            date_delta = timedelta(days=i)\n",
    "            day = datetime.now()+ date_delta\n",
    "            day = day.strftime('%Y/%m/%d')\n",
    "            time_df[day] = 0 # default \n",
    "            \n",
    "        time_df.to_csv(f'{self.title}.csv')\n",
    "                       \n",
    "                       \n",
    "    # 공부 스톱워치를 시작합니다. \n",
    "    def start_study(self): \n",
    "        global start_study_time\n",
    "        \n",
    "        print(\">> 공부를 스톱워치를 시작하겠습니다.\\n\")\n",
    "        start_study_time = datetime.now()\n",
    "        Aim.create_time_df(self) # 공부 합산 시간과 휴식 합산 시간 기록을 저장할 임시 df 을 만듭니다.\n",
    "                       \n",
    "                       \n",
    "        print(\"☆★☆ 오늘의 명언 ☆★☆\\n\")\n",
    "        print('-----------------------------------------------------------\\n')\n",
    "        \n",
    "        os.chdir(\"C:\\\\Cakd7\\\\aim_list\\\\공부명언\") \n",
    "        with open( 'quotes.txt' ,\"r\",encoding=\"UTF-8\") as f:\n",
    "            quotes=f.readlines()\n",
    "            random_number = random.randint(0, 9) # 랜덤 명언 뽑기\n",
    "            print(quotes[random_number])\n",
    "        os.chdir(\"C:\\\\Cakd7\\\\aim_list\")\n",
    "        \n",
    "        print('-----------------------------------------------------------\\n')\n",
    "        \n",
    "    def start_pause(self): \n",
    "        \n",
    "        print(\">> 현재 시간은\", datetime.now().strftime('%Y/%m/%d %H:%M:%S'), \"입니다. \\n\")\n",
    "        pause = input(\">> 몇분 휴식을 취하시겠습니까? \\n\") # 분\n",
    "        start_pause_time = datetime.now()\n",
    "        start_pause_time1 = datetime.now().strftime('%H:%M:%S') # 아래 프린트에서 더 깔끔하게 보여주기 위해\n",
    "        print(f'>> {start_pause_time1} 부터 {pause} 분간 휴식이 있겠습니다.\\n')\n",
    "        time.sleep(int(pause)) # 초에서 분 단위로 바꿔준다.\n",
    "        end_pause_time = datetime.now()\n",
    "        print(\">> 휴식이 끝났습니다. 공부를 다시 이어가세요! \\n\") # 주어진 휴식 시간이 끝나면 알람을 받습니다.\n",
    "\n",
    "        pause_result = int(pause)\n",
    "        \n",
    "        # 휴식을 가질 때마다 데이터프레임에 누적된 휴식시간을 업데이트 해줍니다.\n",
    "        time_dff = pd.read_csv(f'{self.title}.csv',index_col=0)\n",
    "        expause = time_dff.iloc[0].loc[today]\n",
    "        newpause = expause + pause_result\n",
    "        time_dff.iloc[0].loc[today] = newpause\n",
    "        time_dff.to_csv(f'{self.title}.csv')\n",
    "                       \n",
    "                       \n",
    "    def stop_study(self):\n",
    "        print(\">> 공부 스톱워치를 종료합니다. \\n\")\n",
    "        stop_study_time = datetime.now() \n",
    "        \n",
    "        time_dff = pd.read_csv(f'{self.title}.csv',index_col=0)\n",
    "        pause_sum = time_dff.iloc[0].loc[today] # 마지막에 데이터프레임에서 총 휴식 시간을 읽어옵니다.\n",
    "        temp_total_studytime =stop_study_time-start_study_time\n",
    "        temp_total_studytime = (temp_total_studytime.seconds)/60 # 분단위로 바꿉니다.\n",
    "        total_studytime= temp_total_studytime - pause_sum \n",
    "        \n",
    "        time_dff.iloc[1].loc[today] = total_studytime\n",
    "        time_dff.to_csv(f'{self.title}.csv')\n",
    "   \n",
    "        \n",
    "        print(\"오늘 총 공부 시간:\\n\")\n",
    "        print(f'{round(total_studytime,2)} 분 입니다.')\n",
    "    \n",
    "        \n",
    "        if time_dff.iloc[1,:].sum() >= self.studytime:\n",
    "            print(\"⁑⁑⁑⁑⁑⁑⁑⁑⁑⁑⁑⁑⁑⁑⁑⁑⁑⁑⁑⁑⁑⁑⁑⁑⁑⁑⁑⁑⁑⁑⁑⁑⁑⁑⁑⁑⁑⁑⁑⁑\\n\")\n",
    "            print(\">> 목표 공부량을 해냈습니다. 축하드립니다! 🙆\")\n",
    "            with open( f'{self.title}.txt' ,\"r\") as f:  # 성공메모 꺼내오기\n",
    "                lines = f.readlines()\n",
    "                memo = lines[1]\n",
    "                print(memo)\n",
    "            print(\"⁑⁑⁑⁑⁑⁑⁑⁑⁑⁑⁑⁑⁑⁑⁑⁑⁑⁑⁑⁑⁑⁑⁑⁑⁑⁑⁑⁑⁑⁑⁑⁑⁑⁑⁑⁑⁑⁑⁑⁑\\n\")\n",
    "    \n",
    "        \n",
    "        \n",
    "test = Aim(\"마파두부시험\",\"공부 열심히 했으니 이제 마라탕\", '2022/07/10', 70 )\n",
    "test.start_aim()"
   ]
  },
  {
   "cell_type": "code",
   "execution_count": 4,
   "id": "2ea7179a",
   "metadata": {},
   "outputs": [
    {
     "name": "stdout",
     "output_type": "stream",
     "text": [
      ">> 공부를 스톱워치를 시작하겠습니다.\n",
      "\n",
      "☆★☆ 오늘의 명언 ☆★☆\n",
      "\n",
      "-----------------------------------------------------------\n",
      "\n",
      "용감하게 행동하라. 세상은 확신을 갖고 행동하는 사람을 위해 길을 비켜준다. - 마이클 조던\n",
      "\n",
      "-----------------------------------------------------------\n",
      "\n",
      ">> 현재 시간은 2022/07/01 19:45:06 입니다. \n",
      "\n",
      ">> 몇분 휴식을 취하시겠습니까? \n",
      "1\n",
      ">> 19:45:08 부터 1 분간 휴식이 있겠습니다.\n",
      "\n",
      ">> 휴식이 끝났습니다. 공부를 다시 이어가세요! \n",
      "\n",
      ">> 현재 시간은 2022/07/01 19:45:09 입니다. \n",
      "\n",
      ">> 몇분 휴식을 취하시겠습니까? \n",
      "1\n",
      ">> 19:45:11 부터 1 분간 휴식이 있겠습니다.\n",
      "\n",
      ">> 휴식이 끝났습니다. 공부를 다시 이어가세요! \n",
      "\n"
     ]
    }
   ],
   "source": [
    "test.start_study() # 공부 스톱워치 시작\n",
    "test.start_pause() # 첫번째 휴식\n",
    "test.start_pause() # 두번째 휴식"
   ]
  },
  {
   "cell_type": "code",
   "execution_count": 5,
   "id": "075d2cb9",
   "metadata": {},
   "outputs": [
    {
     "name": "stdout",
     "output_type": "stream",
     "text": [
      ">> 공부 스톱워치를 종료합니다. \n",
      "\n",
      "오늘 총 공부 시간:\n",
      "\n",
      "-1.92 분 입니다.\n"
     ]
    }
   ],
   "source": [
    "test.stop_study() #공부 스톱워치 종료"
   ]
  },
  {
   "cell_type": "markdown",
   "id": "a4f11f29",
   "metadata": {},
   "source": [
    "# 3. 목표 리스트\n",
    "\n",
    "#### 3.1  목표 제목\n",
    "   \n",
    "#### 3.2  목표\n",
    "   \n",
    "#### 3.3  목표 총 공부한 시간 (분 단위)\n",
    "   \n",
    "#### 3.4  성공/실패 여부\n",
    "   \n",
    "#### 3.5  디데이 \n",
    "   \n",
    "#### 3.6  디데이까지 남은 시간 (분 단위)"
   ]
  },
  {
   "cell_type": "markdown",
   "id": "faec1a0f",
   "metadata": {},
   "source": [
    "1. aim_list 폴더에 있는 모든 txt 파일을 불러옵니다. \n",
    "2. 목표 csv 파일에서 실제 공부했던 시간을 읽어옵니다.\n",
    "3. txt 파일에서 목표 공부량을 불러옵니다.\n",
    "4. 목표 공부량이 실제 공부했던 시간보다 클 경우 = 실패, 그렇지 않을 경우 = 성공\n",
    "5. 오늘부터 목표 날짜까지 남은 시간을 계산하기 위해 txt 파일에 있는 목표 날짜를 읽어옵니다. \n",
    "6. 위에서 구한 모든 정보들을 정리하여 리스트로 나열합니다. "
   ]
  },
  {
   "cell_type": "code",
   "execution_count": 6,
   "id": "588a72ee",
   "metadata": {},
   "outputs": [],
   "source": [
    "class Aim_list():\n",
    "    \n",
    "    def __init__(self):\n",
    "        \n",
    "        aim_list = list(glob.glob('*.txt'))\n",
    "        temp_study_live = []\n",
    "        temp_study_aim = []\n",
    "        temp_leftstudytime = []\n",
    "        date_study = []\n",
    "        days_left = []\n",
    "        \n",
    "\n",
    "        for i in aim_list: \n",
    "    \n",
    "            i = i[:-4]\n",
    "            \n",
    "            df = pd.read_csv(f'{i}.csv', index_col=0) # 실제 공부량\n",
    "            total_study_time = df.iloc[1].sum()\n",
    "            temp_study_live.append(round(total_study_time,2))\n",
    "            \n",
    "            \n",
    "            with open( f'{i}.txt' ,\"r\") as f:  # 목표 공부량\n",
    "                lines = f.readlines()\n",
    "                study_time_aim = lines[3]\n",
    "                \n",
    "                p = re.compile('\\d+') # 4번째 줄에서 숫자만 추출 \n",
    "                study_time_aim = p.findall(study_time_aim)\n",
    "                study_time_aim= int(study_time_aim[0])\n",
    "\n",
    "                if int(study_time_aim) > total_study_time: # 실패 / 성공 여부 확인하기 \n",
    "                    success_fail = '실패'\n",
    "                else:\n",
    "                    success_fail = '성공'\n",
    "                    \n",
    "                temp_study_aim.append(success_fail)\n",
    "                \n",
    "                #목표공부량까지 남은 공부 시간 \n",
    "                leftstudytime = int(study_time_aim) - total_study_time\n",
    "                temp_leftstudytime.append(leftstudytime)\n",
    "                \n",
    "            \n",
    "            with open( f'{i}.txt' ,\"r\") as f:  # 목표 날짜 읽어오기\n",
    "                \n",
    "                lines = f.readlines()\n",
    "                dday = lines[2]\n",
    "                \n",
    "                p = re.compile('\\d+/\\d+/\\d+') # 날짜만 추출 \n",
    "                dday = p.findall(dday)\n",
    "                dday = dday[0]\n",
    "                dday= datetime.strptime(dday,'%Y/%m/%d')\n",
    "\n",
    "                    \n",
    "                date_study.append(dday)\n",
    "                days_left.append((dday- datetime.now()).days) # 오늘로부터 날짜까지 남은 시간 = 디데이\n",
    "        \n",
    "        # 목표 리스트\n",
    "        x=0\n",
    "        print(\"✤✤✤✤✤✤✤✤✤✤✤✤✤✤✤✤✤✤✤✤✤✤✤✤✤✤✤✤✤✤✤✤✤✤✤✤✤✤✤✤✤✤✤✤✤✤✤✤✤✤✤✤\")\n",
    "        print(\"목표 제목  :  총 공부 시간 (분)  :   성공/실패  :      목표 날짜      :       디데이(D-Day)      :    디타임(D-Time)\")\n",
    "        print(\"---------------------------------------------------------------------------------------------------------------------\")\n",
    "        while x < len(aim_list):    \n",
    "            \n",
    "            print(aim_list[x][:-4],\"  :      \",temp_study_live[x],\"        :  \" , temp_study_aim[x], \":    \", date_study[x], \"   :       \", days_left[x], \"                 :    \", temp_leftstudytime[x])\n",
    "            x+=1\n",
    "            \n",
    "        print(\"✤✤✤✤✤✤✤✤✤✤✤✤✤✤✤✤✤✤✤✤✤✤✤✤✤✤✤✤✤✤✤✤✤✤✤✤✤✤✤✤✤✤✤✤✤✤✤✤✤✤✤✤\")"
   ]
  },
  {
   "cell_type": "code",
   "execution_count": 7,
   "id": "f7879f95",
   "metadata": {},
   "outputs": [
    {
     "name": "stdout",
     "output_type": "stream",
     "text": [
      "✤✤✤✤✤✤✤✤✤✤✤✤✤✤✤✤✤✤✤✤✤✤✤✤✤✤✤✤✤✤✤✤✤✤✤✤✤✤✤✤✤✤✤✤✤✤✤✤✤✤✤✤\n",
      "목표 제목  :  총 공부 시간 (분)  :   성공/실패  :      목표 날짜      :       디데이(D-Day)      :    디타임(D-Time)\n",
      "---------------------------------------------------------------------------------------------------------------------\n",
      "마파두부시험   :       0         :   실패 :     2022-07-10 00:00:00    :        8                  :     70\n",
      "✤✤✤✤✤✤✤✤✤✤✤✤✤✤✤✤✤✤✤✤✤✤✤✤✤✤✤✤✤✤✤✤✤✤✤✤✤✤✤✤✤✤✤✤✤✤✤✤✤✤✤✤\n"
     ]
    }
   ],
   "source": [
    "test4 = Aim_list() # 목록 보기 "
   ]
  },
  {
   "cell_type": "markdown",
   "id": "a58048c3",
   "metadata": {},
   "source": [
    "# 4. 공부와 휴식 그래프 \n",
    "#### 4.1 날짜별 총 공부 시간 \n",
    "\n",
    "#### 4.2 날짜별 총 휴식 시간 "
   ]
  },
  {
   "cell_type": "markdown",
   "id": "5ee5ec0c",
   "metadata": {},
   "source": [
    "- 목표 디데이까지 날짜별 공부 시간과 휴식 시간을 한눈에 잘 보일 수 있게 그래프로 표현합니다."
   ]
  },
  {
   "cell_type": "markdown",
   "id": "c3358e94",
   "metadata": {},
   "source": [
    "### 그래프 보안 필요!!"
   ]
  },
  {
   "cell_type": "code",
   "execution_count": 25,
   "id": "2fcd92d3",
   "metadata": {},
   "outputs": [],
   "source": [
    "class Study_graph():\n",
    "\n",
    "    today = datetime.now().strftime('%Y/%m/%d')\n",
    "    \n",
    "    def __init__(self,title):\n",
    "        self.title = title\n",
    "        time_dff = pd.read_csv(f'{self.title}.csv',index_col=0)\n",
    "        \n",
    "        plt.title(label=f\"STUDY / BREAK GRAPH\",fontsize=25, color=\"black\")\n",
    "        \n",
    "        pause_line = time_dff.loc[\"휴식\",:today]\n",
    "        study_line = time_dff.loc[\"공부\",:today]  # time_dff.iloc[1]\n",
    "        pause_line_future = time_dff.loc[\"휴식\",today:]\n",
    "        study_line_future = time_dff.loc[\"공부\",today:]  # time_dff.iloc[1]\n",
    "        \n",
    "        pause_line_future.plot.line()\n",
    "        pause_line.plot.line()\n",
    "        study_line.plot.line()\n",
    "        ####\n",
    "        \n",
    "        \n",
    "        print(\"하루 평균 휴식 시간:\")\n",
    "        print(round(sum(pause_line) / len(pause_line)),\"분\")\n",
    "        print(\"하루 평균 공부 시간:\")\n",
    "        print(round(sum(study_line) / len(study_line)),\"분\")"
   ]
  },
  {
   "cell_type": "code",
   "execution_count": 26,
   "id": "65efdf5d",
   "metadata": {
    "scrolled": true
   },
   "outputs": [
    {
     "name": "stdout",
     "output_type": "stream",
     "text": [
      "하루 평균 휴식 시간:\n",
      "23 분\n",
      "하루 평균 공부 시간:\n",
      "400 분\n"
     ]
    },
    {
     "data": {
      "image/png": "[encoded data removed]",
      "text/plain": [
       "<Figure size 432x288 with 1 Axes>"
      ]
     },
     "metadata": {
      "needs_background": "light"
     },
     "output_type": "display_data"
    }
   ],
   "source": [
    "test4 = Study_graph('마파두부시험')"
   ]
  },
  {
   "cell_type": "markdown",
   "id": "dd48378f",
   "metadata": {},
   "source": [
    "## 프로그램 보안\n",
    "\n",
    "- 곳곳에 에러 방지 필요"
   ]
  },
  {
   "cell_type": "code",
   "execution_count": null,
   "id": "3e231f3b",
   "metadata": {},
   "outputs": [],
   "source": []
  }
 ],
 "metadata": {
  "kernelspec": {
   "display_name": "Python 3 (ipykernel)",
   "language": "python",
   "name": "python3"
  },
  "language_info": {
   "codemirror_mode": {
    "name": "ipython",
    "version": 3
   },
   "file_extension": ".py",
   "mimetype": "text/x-python",
   "name": "python",
   "nbconvert_exporter": "python",
   "pygments_lexer": "ipython3",
   "version": "3.8.13"
  }
 },
 "nbformat": 4,
 "nbformat_minor": 5
}
